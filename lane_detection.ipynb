{
 "cells": [
  {
   "cell_type": "code",
   "execution_count": 1,
   "metadata": {},
   "outputs": [],
   "source": [
    "import cv2\n",
    "import numpy as np\n",
    "import matplotlib.pyplot as plt\n",
    "from lane_detection import *\n",
    "from lane_following import *"
   ]
  },
  {
   "cell_type": "code",
   "execution_count": 2,
   "metadata": {},
   "outputs": [],
   "source": [
    "cap = cv2.VideoCapture('AUV_Vid.mkv')\n",
    "ret, frame = cap.read()"
   ]
  },
  {
   "cell_type": "code",
   "execution_count": 3,
   "metadata": {},
   "outputs": [
    {
     "name": "stdout",
     "output_type": "stream",
     "text": [
      "None\n"
     ]
    }
   ],
   "source": [
    "lines = lane_detection.detect_lines(frame)\n",
    "print(lines)"
   ]
  },
  {
   "cell_type": "code",
   "execution_count": 4,
   "metadata": {},
   "outputs": [
    {
     "data": {
      "text/plain": [
       "array([[[ 88, 100,  79],\n",
       "        [ 88, 100,  79],\n",
       "        [ 89, 101,  80],\n",
       "        ...,\n",
       "        [ 74,  79,  59],\n",
       "        [ 74,  79,  59],\n",
       "        [ 74,  79,  59]],\n",
       "\n",
       "       [[ 89, 101,  80],\n",
       "        [ 89, 101,  80],\n",
       "        [ 89, 101,  80],\n",
       "        ...,\n",
       "        [ 74,  79,  59],\n",
       "        [ 74,  79,  59],\n",
       "        [ 74,  79,  59]],\n",
       "\n",
       "       [[ 91, 102,  83],\n",
       "        [ 91, 102,  83],\n",
       "        [ 91, 102,  83],\n",
       "        ...,\n",
       "        [ 76,  79,  59],\n",
       "        [ 76,  79,  59],\n",
       "        [ 76,  79,  59]],\n",
       "\n",
       "       ...,\n",
       "\n",
       "       [[ 88, 102,  89],\n",
       "        [ 88, 102,  89],\n",
       "        [ 88, 102,  89],\n",
       "        ...,\n",
       "        [ 87,  95,  91],\n",
       "        [ 87,  95,  91],\n",
       "        [ 87,  95,  91]],\n",
       "\n",
       "       [[ 93, 100,  93],\n",
       "        [ 93, 100,  93],\n",
       "        [ 93, 100,  93],\n",
       "        ...,\n",
       "        [ 89,  95,  91],\n",
       "        [ 89,  95,  91],\n",
       "        [ 89,  95,  91]],\n",
       "\n",
       "       [[ 93, 100,  93],\n",
       "        [ 93, 100,  93],\n",
       "        [ 93, 100,  93],\n",
       "        ...,\n",
       "        [ 90,  96,  93],\n",
       "        [ 90,  96,  93],\n",
       "        [ 90,  96,  93]]], dtype=uint8)"
      ]
     },
     "execution_count": 4,
     "metadata": {},
     "output_type": "execute_result"
    }
   ],
   "source": [
    "lane_detection.draw_lines(frame, lines)"
   ]
  },
  {
   "cell_type": "code",
   "execution_count": 5,
   "metadata": {},
   "outputs": [
    {
     "ename": "TypeError",
     "evalue": "'NoneType' object is not iterable",
     "output_type": "error",
     "traceback": [
      "\u001b[0;31m---------------------------------------------------------------------------\u001b[0m",
      "\u001b[0;31mTypeError\u001b[0m                                 Traceback (most recent call last)",
      "Cell \u001b[0;32mIn[5], line 1\u001b[0m\n\u001b[0;32m----> 1\u001b[0m slopeList, interceptList \u001b[39m=\u001b[39m lane_detection\u001b[39m.\u001b[39;49mget_slopes_intercepts(lines)\n",
      "File \u001b[0;32m~/cv-intro/lane_detection.py:51\u001b[0m, in \u001b[0;36mget_slopes_intercepts\u001b[0;34m(lines)\u001b[0m\n\u001b[1;32m     48\u001b[0m slopeList \u001b[39m=\u001b[39m []\n\u001b[1;32m     49\u001b[0m interceptList \u001b[39m=\u001b[39m []\n\u001b[0;32m---> 51\u001b[0m \u001b[39mfor\u001b[39;00m line \u001b[39min\u001b[39;00m lines:\n\u001b[1;32m     52\u001b[0m     \u001b[39mtry\u001b[39;00m:\n\u001b[1;32m     53\u001b[0m         x1, y1, x2, y2 \u001b[39m=\u001b[39m line[\u001b[39m0\u001b[39m]\n",
      "\u001b[0;31mTypeError\u001b[0m: 'NoneType' object is not iterable"
     ]
    }
   ],
   "source": [
    "slopeList, interceptList = lane_detection.get_slopes_intercepts(lines)\n",
    "\n"
   ]
  },
  {
   "cell_type": "code",
   "execution_count": null,
   "metadata": {},
   "outputs": [
    {
     "name": "stdout",
     "output_type": "stream",
     "text": [
      "[[[592 385 797 741]]\n",
      "\n",
      " [[525 358 608 631]]\n",
      "\n",
      " [[670 522 797 742]]\n",
      "\n",
      " [[560 328 653 490]]\n",
      "\n",
      " [[560 475 641 742]]]\n",
      "[1.7365853658536585]\n",
      "[1.7365853658536585, 3.289156626506024]\n",
      "[1.7365853658536585, 3.289156626506024, 1.7322834645669292]\n",
      "[1.7365853658536585, 3.289156626506024, 1.7322834645669292, 1.7419354838709677]\n",
      "[1.7365853658536585, 3.289156626506024, 1.7322834645669292, 1.7419354838709677, 3.2962962962962963]\n",
      "5 5\n",
      "[]\n",
      "[[[592 385 797 741]]\n",
      "\n",
      " [[525 358 608 631]]\n",
      "\n",
      " [[670 522 797 742]]\n",
      "\n",
      " [[560 328 653 490]]\n",
      "\n",
      " [[560 475 641 742]]]\n",
      "[1.7365853658536585]\n",
      "[1.7365853658536585, 3.289156626506024]\n",
      "[1.7365853658536585, 3.289156626506024, 1.7322834645669292]\n",
      "[1.7365853658536585, 3.289156626506024, 1.7322834645669292, 1.7419354838709677]\n",
      "[1.7365853658536585, 3.289156626506024, 1.7322834645669292, 1.7419354838709677, 3.2962962962962963]\n",
      "5 5\n",
      "[]\n"
     ]
    }
   ],
   "source": [
    "lane_detection.detect_lanes(lines)\n",
    "lanes = lane_detection.detect_lanes(lines)"
   ]
  },
  {
   "cell_type": "code",
   "execution_count": null,
   "metadata": {},
   "outputs": [],
   "source": []
  },
  {
   "cell_type": "code",
   "execution_count": null,
   "metadata": {},
   "outputs": [
    {
     "ename": "error",
     "evalue": "OpenCV(4.8.0) :-1: error: (-5:Bad argument) in function 'line'\n> Overload resolution failed:\n>  - Can't parse 'pt1'. Input argument doesn't provide sequence protocol\n>  - Can't parse 'pt1'. Input argument doesn't provide sequence protocol\n",
     "output_type": "error",
     "traceback": [
      "\u001b[0;31m---------------------------------------------------------------------------\u001b[0m",
      "\u001b[0;31merror\u001b[0m                                     Traceback (most recent call last)",
      "Cell \u001b[0;32mIn[24], line 1\u001b[0m\n\u001b[0;32m----> 1\u001b[0m cv2\u001b[39m.\u001b[39;49mline(img, \u001b[39m429\u001b[39;49m, \u001b[39m1080\u001b[39;49m, \u001b[39m573\u001b[39;49m, \u001b[39m299\u001b[39;49m)\n\u001b[1;32m      2\u001b[0m plt\u001b[39m.\u001b[39mimshow(img, cv2\u001b[39m.\u001b[39mCOLOR_BGR2RGB)\n\u001b[1;32m      3\u001b[0m plt\u001b[39m.\u001b[39mshow()\n",
      "\u001b[0;31merror\u001b[0m: OpenCV(4.8.0) :-1: error: (-5:Bad argument) in function 'line'\n> Overload resolution failed:\n>  - Can't parse 'pt1'. Input argument doesn't provide sequence protocol\n>  - Can't parse 'pt1'. Input argument doesn't provide sequence protocol\n"
     ]
    }
   ],
   "source": [
    "cv2.line(frame, 429, 1080, 573, 299)\n",
    "plt.imshow(frame, cv2.COLOR_BGR2RGB)\n",
    "plt.show()"
   ]
  }
 ],
 "metadata": {
  "kernelspec": {
   "display_name": "bluecv",
   "language": "python",
   "name": "python3"
  },
  "language_info": {
   "codemirror_mode": {
    "name": "ipython",
    "version": 3
   },
   "file_extension": ".py",
   "mimetype": "text/x-python",
   "name": "python",
   "nbconvert_exporter": "python",
   "pygments_lexer": "ipython3",
   "version": "3.9.2"
  },
  "orig_nbformat": 4
 },
 "nbformat": 4,
 "nbformat_minor": 2
}
