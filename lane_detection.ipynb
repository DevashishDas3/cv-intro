{
 "cells": [
  {
   "cell_type": "code",
   "execution_count": 16,
   "metadata": {},
   "outputs": [],
   "source": [
    "import cv2\n",
    "import numpy as np\n",
    "import matplotlib.pyplot as plt\n",
    "from lane_detection import *\n",
    "from lane_following import *"
   ]
  },
  {
   "cell_type": "code",
   "execution_count": 17,
   "metadata": {},
   "outputs": [],
   "source": [
    "img = cv2.imread(\"rov_pool.jpg\")"
   ]
  },
  {
   "cell_type": "code",
   "execution_count": 18,
   "metadata": {},
   "outputs": [
    {
     "name": "stdout",
     "output_type": "stream",
     "text": [
      "None\n"
     ]
    }
   ],
   "source": [
    "lines = lane_detection.detect_lines(img, 49, 50, 3, 500, 40)\n",
    "print(lines)"
   ]
  },
  {
   "cell_type": "code",
   "execution_count": 19,
   "metadata": {},
   "outputs": [
    {
     "data": {
      "text/plain": [
       "array([[[107,  86,  48],\n",
       "        [107,  86,  48],\n",
       "        [107,  86,  48],\n",
       "        ...,\n",
       "        [ 86,  55,  32],\n",
       "        [ 86,  55,  32],\n",
       "        [ 86,  55,  32]],\n",
       "\n",
       "       [[107,  86,  48],\n",
       "        [107,  86,  48],\n",
       "        [107,  86,  48],\n",
       "        ...,\n",
       "        [ 86,  55,  32],\n",
       "        [ 86,  55,  32],\n",
       "        [ 86,  55,  32]],\n",
       "\n",
       "       [[107,  86,  48],\n",
       "        [107,  86,  48],\n",
       "        [107,  86,  48],\n",
       "        ...,\n",
       "        [ 86,  55,  32],\n",
       "        [ 86,  55,  32],\n",
       "        [ 86,  55,  32]],\n",
       "\n",
       "       ...,\n",
       "\n",
       "       [[100, 105, 104],\n",
       "        [101, 106, 105],\n",
       "        [101, 106, 105],\n",
       "        ...,\n",
       "        [104, 103, 105],\n",
       "        [104, 104, 104],\n",
       "        [104, 104, 104]],\n",
       "\n",
       "       [[100, 105, 104],\n",
       "        [100, 105, 104],\n",
       "        [101, 106, 105],\n",
       "        ...,\n",
       "        [104, 103, 105],\n",
       "        [104, 104, 104],\n",
       "        [104, 104, 104]],\n",
       "\n",
       "       [[100, 105, 104],\n",
       "        [100, 105, 104],\n",
       "        [100, 105, 104],\n",
       "        ...,\n",
       "        [104, 103, 105],\n",
       "        [104, 104, 104],\n",
       "        [104, 104, 104]]], dtype=uint8)"
      ]
     },
     "execution_count": 19,
     "metadata": {},
     "output_type": "execute_result"
    }
   ],
   "source": [
    "lane_detection.draw_lines(img, lines)"
   ]
  },
  {
   "cell_type": "code",
   "execution_count": 20,
   "metadata": {},
   "outputs": [
    {
     "ename": "TypeError",
     "evalue": "'NoneType' object is not iterable",
     "output_type": "error",
     "traceback": [
      "\u001b[0;31m---------------------------------------------------------------------------\u001b[0m",
      "\u001b[0;31mTypeError\u001b[0m                                 Traceback (most recent call last)",
      "Cell \u001b[0;32mIn[20], line 1\u001b[0m\n\u001b[0;32m----> 1\u001b[0m lane_detection\u001b[39m.\u001b[39;49mget_slopes_intercepts(lines)\n",
      "File \u001b[0;32m~/cv-intro/lane_detection.py:50\u001b[0m, in \u001b[0;36mget_slopes_intercepts\u001b[0;34m(lines)\u001b[0m\n\u001b[1;32m     48\u001b[0m slopeList \u001b[39m=\u001b[39m []\n\u001b[1;32m     49\u001b[0m interceptList \u001b[39m=\u001b[39m []\n\u001b[0;32m---> 50\u001b[0m \u001b[39mfor\u001b[39;00m line \u001b[39min\u001b[39;00m lines:\n\u001b[1;32m     51\u001b[0m     \u001b[39mif\u001b[39;00m (x1\u001b[39m-\u001b[39mx2) \u001b[39m!=\u001b[39m \u001b[39m0\u001b[39m:\n\u001b[1;32m     52\u001b[0m         x1, y1, x2, y2 \u001b[39m=\u001b[39m line[\u001b[39m0\u001b[39m]\n",
      "\u001b[0;31mTypeError\u001b[0m: 'NoneType' object is not iterable"
     ]
    }
   ],
   "source": [
    "lane_detection.get_slopes_intercepts(lines)\n"
   ]
  },
  {
   "cell_type": "code",
   "execution_count": null,
   "metadata": {},
   "outputs": [],
   "source": [
    "lanes = lane_detection.detect_lanes(lines)\n",
    "print(lanes)"
   ]
  },
  {
   "cell_type": "code",
   "execution_count": null,
   "metadata": {},
   "outputs": [],
   "source": [
    "img = cv2.imread(\"rov_pool.jpg\")"
   ]
  },
  {
   "cell_type": "code",
   "execution_count": null,
   "metadata": {},
   "outputs": [],
   "source": [
    "lane_detection.draw_lanes(img, lanes)\n",
    "plt.imshow(cv2.cvtColor(lane_detection.draw_lanes(image, lanes), cv2.COLOR_BGR2RGB))\n",
    "plt.show()"
   ]
  }
 ],
 "metadata": {
  "kernelspec": {
   "display_name": "bluecv",
   "language": "python",
   "name": "python3"
  },
  "language_info": {
   "codemirror_mode": {
    "name": "ipython",
    "version": 3
   },
   "file_extension": ".py",
   "mimetype": "text/x-python",
   "name": "python",
   "nbconvert_exporter": "python",
   "pygments_lexer": "ipython3",
   "version": "3.9.2"
  },
  "orig_nbformat": 4
 },
 "nbformat": 4,
 "nbformat_minor": 2
}
