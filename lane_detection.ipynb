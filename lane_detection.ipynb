{
 "cells": [
  {
   "cell_type": "code",
   "execution_count": 17,
   "metadata": {},
   "outputs": [],
   "source": [
    "import cv2\n",
    "import numpy as np\n",
    "import matplotlib.pyplot as plt\n",
    "from lane_detection import *\n",
    "from lane_following import *"
   ]
  },
  {
   "cell_type": "code",
   "execution_count": 18,
   "metadata": {},
   "outputs": [],
   "source": [
    "img = cv2.imread(\"rov_pool.jpg\")"
   ]
  },
  {
   "cell_type": "code",
   "execution_count": 19,
   "metadata": {},
   "outputs": [
    {
     "name": "stdout",
     "output_type": "stream",
     "text": [
      "[[[592 385 797 741]]\n",
      "\n",
      " [[525 358 608 631]]\n",
      "\n",
      " [[670 522 797 742]]\n",
      "\n",
      " [[560 328 653 490]]\n",
      "\n",
      " [[560 475 641 742]]]\n"
     ]
    }
   ],
   "source": [
    "lines = lane_detection.detect_lines(img)\n",
    "print(lines)"
   ]
  },
  {
   "cell_type": "code",
   "execution_count": 20,
   "metadata": {},
   "outputs": [
    {
     "name": "stdout",
     "output_type": "stream",
     "text": [
      "[592 385 797 741]\n",
      "[525 358 608 631]\n",
      "[670 522 797 742]\n",
      "[560 328 653 490]\n",
      "[560 475 641 742]\n"
     ]
    },
    {
     "data": {
      "text/plain": [
       "array([[[107,  86,  48],\n",
       "        [107,  86,  48],\n",
       "        [107,  86,  48],\n",
       "        ...,\n",
       "        [ 86,  55,  32],\n",
       "        [ 86,  55,  32],\n",
       "        [ 86,  55,  32]],\n",
       "\n",
       "       [[107,  86,  48],\n",
       "        [107,  86,  48],\n",
       "        [107,  86,  48],\n",
       "        ...,\n",
       "        [ 86,  55,  32],\n",
       "        [ 86,  55,  32],\n",
       "        [ 86,  55,  32]],\n",
       "\n",
       "       [[107,  86,  48],\n",
       "        [107,  86,  48],\n",
       "        [107,  86,  48],\n",
       "        ...,\n",
       "        [ 86,  55,  32],\n",
       "        [ 86,  55,  32],\n",
       "        [ 86,  55,  32]],\n",
       "\n",
       "       ...,\n",
       "\n",
       "       [[100, 105, 104],\n",
       "        [101, 106, 105],\n",
       "        [101, 106, 105],\n",
       "        ...,\n",
       "        [104, 103, 105],\n",
       "        [104, 104, 104],\n",
       "        [104, 104, 104]],\n",
       "\n",
       "       [[100, 105, 104],\n",
       "        [100, 105, 104],\n",
       "        [101, 106, 105],\n",
       "        ...,\n",
       "        [104, 103, 105],\n",
       "        [104, 104, 104],\n",
       "        [104, 104, 104]],\n",
       "\n",
       "       [[100, 105, 104],\n",
       "        [100, 105, 104],\n",
       "        [100, 105, 104],\n",
       "        ...,\n",
       "        [104, 103, 105],\n",
       "        [104, 104, 104],\n",
       "        [104, 104, 104]]], dtype=uint8)"
      ]
     },
     "execution_count": 20,
     "metadata": {},
     "output_type": "execute_result"
    }
   ],
   "source": [
    "lane_detection.draw_lines(img, lines)"
   ]
  },
  {
   "cell_type": "code",
   "execution_count": 21,
   "metadata": {},
   "outputs": [
    {
     "name": "stdout",
     "output_type": "stream",
     "text": [
      "[1.7365853658536585]\n",
      "[1.7365853658536585, 3.289156626506024]\n",
      "[1.7365853658536585, 3.289156626506024, 1.7322834645669292]\n",
      "[1.7365853658536585, 3.289156626506024, 1.7322834645669292, 1.7419354838709677]\n",
      "[1.7365853658536585, 3.289156626506024, 1.7322834645669292, 1.7419354838709677, 3.2962962962962963]\n"
     ]
    }
   ],
   "source": [
    "slopeList, interceptList = lane_detection.get_slopes_intercepts(lines)\n",
    "\n"
   ]
  },
  {
   "cell_type": "code",
   "execution_count": 22,
   "metadata": {},
   "outputs": [
    {
     "name": "stdout",
     "output_type": "stream",
     "text": [
      "[[[592 385 797 741]]\n",
      "\n",
      " [[525 358 608 631]]\n",
      "\n",
      " [[670 522 797 742]]\n",
      "\n",
      " [[560 328 653 490]]\n",
      "\n",
      " [[560 475 641 742]]]\n",
      "[1.7365853658536585]\n",
      "[1.7365853658536585, 3.289156626506024]\n",
      "[1.7365853658536585, 3.289156626506024, 1.7322834645669292]\n",
      "[1.7365853658536585, 3.289156626506024, 1.7322834645669292, 1.7419354838709677]\n",
      "[1.7365853658536585, 3.289156626506024, 1.7322834645669292, 1.7419354838709677, 3.2962962962962963]\n",
      "5 5\n",
      "[]\n",
      "[[[592 385 797 741]]\n",
      "\n",
      " [[525 358 608 631]]\n",
      "\n",
      " [[670 522 797 742]]\n",
      "\n",
      " [[560 328 653 490]]\n",
      "\n",
      " [[560 475 641 742]]]\n",
      "[1.7365853658536585]\n",
      "[1.7365853658536585, 3.289156626506024]\n",
      "[1.7365853658536585, 3.289156626506024, 1.7322834645669292]\n",
      "[1.7365853658536585, 3.289156626506024, 1.7322834645669292, 1.7419354838709677]\n",
      "[1.7365853658536585, 3.289156626506024, 1.7322834645669292, 1.7419354838709677, 3.2962962962962963]\n",
      "5 5\n",
      "[]\n"
     ]
    }
   ],
   "source": [
    "lane_detection.detect_lanes(lines)\n",
    "lanes = lane_detection.detect_lanes(lines)"
   ]
  },
  {
   "cell_type": "code",
   "execution_count": 23,
   "metadata": {},
   "outputs": [],
   "source": [
    "img = cv2.imread(\"rov_pool.jpg\")"
   ]
  },
  {
   "cell_type": "code",
   "execution_count": 24,
   "metadata": {},
   "outputs": [
    {
     "ename": "error",
     "evalue": "OpenCV(4.8.0) :-1: error: (-5:Bad argument) in function 'line'\n> Overload resolution failed:\n>  - Can't parse 'pt1'. Input argument doesn't provide sequence protocol\n>  - Can't parse 'pt1'. Input argument doesn't provide sequence protocol\n",
     "output_type": "error",
     "traceback": [
      "\u001b[0;31m---------------------------------------------------------------------------\u001b[0m",
      "\u001b[0;31merror\u001b[0m                                     Traceback (most recent call last)",
      "Cell \u001b[0;32mIn[24], line 1\u001b[0m\n\u001b[0;32m----> 1\u001b[0m cv2\u001b[39m.\u001b[39;49mline(img, \u001b[39m429\u001b[39;49m, \u001b[39m1080\u001b[39;49m, \u001b[39m573\u001b[39;49m, \u001b[39m299\u001b[39;49m)\n\u001b[1;32m      2\u001b[0m plt\u001b[39m.\u001b[39mimshow(img, cv2\u001b[39m.\u001b[39mCOLOR_BGR2RGB)\n\u001b[1;32m      3\u001b[0m plt\u001b[39m.\u001b[39mshow()\n",
      "\u001b[0;31merror\u001b[0m: OpenCV(4.8.0) :-1: error: (-5:Bad argument) in function 'line'\n> Overload resolution failed:\n>  - Can't parse 'pt1'. Input argument doesn't provide sequence protocol\n>  - Can't parse 'pt1'. Input argument doesn't provide sequence protocol\n"
     ]
    }
   ],
   "source": [
    "cv2.line(img, 429, 1080, 573, 299)\n",
    "plt.imshow(img, cv2.COLOR_BGR2RGB)\n",
    "plt.show()"
   ]
  }
 ],
 "metadata": {
  "kernelspec": {
   "display_name": "bluecv",
   "language": "python",
   "name": "python3"
  },
  "language_info": {
   "codemirror_mode": {
    "name": "ipython",
    "version": 3
   },
   "file_extension": ".py",
   "mimetype": "text/x-python",
   "name": "python",
   "nbconvert_exporter": "python",
   "pygments_lexer": "ipython3",
   "version": "3.9.2"
  },
  "orig_nbformat": 4
 },
 "nbformat": 4,
 "nbformat_minor": 2
}
