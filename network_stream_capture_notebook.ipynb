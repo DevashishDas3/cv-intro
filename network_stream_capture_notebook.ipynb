{
 "cells": [
  {
   "cell_type": "code",
   "execution_count": 2,
   "metadata": {},
   "outputs": [],
   "source": [
    "import cv2\n",
    "from matplotlib import pyplot as plt\n",
    "import lane_detection as ld"
   ]
  },
  {
   "cell_type": "code",
   "execution_count": 3,
   "metadata": {},
   "outputs": [],
   "source": [
    "IP_ADDRESS = \"192.168.1.102\""
   ]
  },
  {
   "cell_type": "code",
   "execution_count": 4,
   "metadata": {},
   "outputs": [
    {
     "name": "stderr",
     "output_type": "stream",
     "text": [
      "[tcp @ 0x7acd570] Connection to tcp://192.168.1.102:8554?timeout=0 failed: Connection refused\n",
      "[ERROR:0@41.123] global cap.cpp:164 open VIDEOIO(CV_IMAGES): raised OpenCV exception:\n",
      "\n",
      "OpenCV(4.8.0) /io/opencv/modules/videoio/src/cap_images.cpp:253: error: (-5:Bad argument) CAP_IMAGES: can't find starting number (in the name of file): rtsp://192.168.1.102:8554/rovcam in function 'icvExtractPattern'\n",
      "\n",
      "\n"
     ]
    }
   ],
   "source": [
    "vcap = cv2.VideoCapture(f\"rtsp://{IP_ADDRESS}:8554/rovcam\")\n",
    "\n",
    "img = None\n",
    "\n",
    "MAX_RETRY = 100\n",
    "count = 0\n",
    "while count < MAX_RETRY:\n",
    "    count += 1\n",
    "    # Obtain the frame\n",
    "    ret, frame = vcap.read()\n",
    "\n",
    "    # Check frame was received successfully\n",
    "    if ret:\n",
    "        # got a frame, close the cap and return the frame\n",
    "        print(\" got a frame \")\n",
    "        img = frame\n",
    "        vcap.release()\n",
    "\n",
    "vcap.release()"
   ]
  },
  {
   "cell_type": "code",
   "execution_count": 5,
   "metadata": {},
   "outputs": [
    {
     "data": {
      "text/plain": [
       "NoneType"
      ]
     },
     "execution_count": 5,
     "metadata": {},
     "output_type": "execute_result"
    }
   ],
   "source": [
    "type(img)"
   ]
  },
  {
   "cell_type": "code",
   "execution_count": 6,
   "metadata": {},
   "outputs": [
    {
     "ename": "error",
     "evalue": "OpenCV(4.8.0) /io/opencv/modules/imgproc/src/color.cpp:182: error: (-215:Assertion failed) !_src.empty() in function 'cvtColor'\n",
     "output_type": "error",
     "traceback": [
      "\u001b[0;31m---------------------------------------------------------------------------\u001b[0m",
      "\u001b[0;31merror\u001b[0m                                     Traceback (most recent call last)",
      "Cell \u001b[0;32mIn[6], line 1\u001b[0m\n\u001b[0;32m----> 1\u001b[0m lines \u001b[39m=\u001b[39m ld\u001b[39m.\u001b[39;49mdetect_lines(img)\n\u001b[1;32m      2\u001b[0m lanes \u001b[39m=\u001b[39m ld\u001b[39m.\u001b[39mdetect_lanes(img)\n\u001b[1;32m      3\u001b[0m ld\u001b[39m.\u001b[39mdraw_lines(img, lanes)\n",
      "File \u001b[0;32m~/cv-intro/lane_detection.py:19\u001b[0m, in \u001b[0;36mdetect_lines\u001b[0;34m(img, thresh1, thresh2, aperture_Size, min_LineLength, max_LineGap)\u001b[0m\n\u001b[1;32m     18\u001b[0m \u001b[39mdef\u001b[39;00m \u001b[39mdetect_lines\u001b[39m(img, thresh1 \u001b[39m=\u001b[39m \u001b[39m50\u001b[39m, thresh2 \u001b[39m=\u001b[39m \u001b[39m150\u001b[39m, aperture_Size \u001b[39m=\u001b[39m \u001b[39m3\u001b[39m, min_LineLength \u001b[39m=\u001b[39m \u001b[39m100\u001b[39m, max_LineGap \u001b[39m=\u001b[39m \u001b[39m10\u001b[39m): \u001b[39m#william vals\u001b[39;00m\n\u001b[0;32m---> 19\u001b[0m     gray \u001b[39m=\u001b[39m cv2\u001b[39m.\u001b[39;49mcvtColor(img, cv2\u001b[39m.\u001b[39;49mIMREAD_GRAYSCALE)\n\u001b[1;32m     20\u001b[0m     edges \u001b[39m=\u001b[39m cv2\u001b[39m.\u001b[39mCanny(gray, thresh1, thresh2, apertureSize\u001b[39m=\u001b[39maperture_Size)\n\u001b[1;32m     21\u001b[0m     lines \u001b[39m=\u001b[39m cv2\u001b[39m.\u001b[39mHoughLinesP(\n\u001b[1;32m     22\u001b[0m                 edges, \u001b[39m#what to draw lines on\u001b[39;00m\n\u001b[1;32m     23\u001b[0m                 \u001b[39m1\u001b[39m, \u001b[39m#number of lines on each edge\u001b[39;00m\n\u001b[0;32m   (...)\u001b[0m\n\u001b[1;32m     27\u001b[0m                 maxLineGap\u001b[39m=\u001b[39mmax_LineGap, \u001b[39m#inverse relation 30\u001b[39;00m\n\u001b[1;32m     28\u001b[0m         ) \u001b[39m# detect lines\u001b[39;00m\n",
      "\u001b[0;31merror\u001b[0m: OpenCV(4.8.0) /io/opencv/modules/imgproc/src/color.cpp:182: error: (-215:Assertion failed) !_src.empty() in function 'cvtColor'\n"
     ]
    }
   ],
   "source": [
    "lines = ld.detect_lines(img)\n",
    "lanes = ld.detect_lanes(img)\n",
    "ld.draw_lines(img, lanes)\n",
    "plt.imshow(img)"
   ]
  },
  {
   "cell_type": "code",
   "execution_count": null,
   "metadata": {},
   "outputs": [],
   "source": []
  }
 ],
 "metadata": {
  "kernelspec": {
   "display_name": "bwsi",
   "language": "python",
   "name": "python3"
  },
  "language_info": {
   "codemirror_mode": {
    "name": "ipython",
    "version": 3
   },
   "file_extension": ".py",
   "mimetype": "text/x-python",
   "name": "python",
   "nbconvert_exporter": "python",
   "pygments_lexer": "ipython3",
   "version": "3.9.2"
  },
  "orig_nbformat": 4
 },
 "nbformat": 4,
 "nbformat_minor": 2
}
